{
 "cells": [
  {
   "cell_type": "code",
   "execution_count": 92,
   "outputs": [
    {
     "name": "stdout",
     "text": [
      "<class 'Bio.Blast.Record.Alignment'>\n<class 'Bio.Blast.Record.Alignment'>\n<class 'Bio.Blast.Record.Alignment'>\n<class 'Bio.Blast.Record.Alignment'>\n<class 'Bio.Blast.Record.Alignment'>\n",
      "<class 'Bio.Blast.Record.Alignment'>\n<class 'Bio.Blast.Record.Alignment'>\n<class 'Bio.Blast.Record.Alignment'>\n<class 'Bio.Blast.Record.Alignment'>\n<class 'Bio.Blast.Record.Alignment'>\n4924 3943 1369 3643 10\n"
     ],
     "output_type": "stream"
    }
   ],
   "source": [
    "NAME = \"my_output.xml\"\n",
    "\n",
    "from Bio.Blast import NCBIXML\n",
    "result_handle = open(NAME)\n",
    "blast_results = NCBIXML.parse(result_handle)\n",
    "\n",
    "from pprint import pprint\n",
    "from Bio import SeqIO, SeqRecord, Seq\n",
    "\n",
    "ppdir = lambda x: pprint(dir(x))\n",
    "pt = lambda x: print(type(x))\n",
    "# TODO ungapped https://stackoverflow.com/questions/7430679/how-to-get-ungapped-sequences-from-blast-output\n",
    "\n",
    "records = []\n",
    "subjects = set()\n",
    "queries = set()\n",
    "matches = set()\n",
    "i = 0\n",
    "for hit in blast_results:\n",
    "    # records.append(hit)\n",
    "    aligns = hit.alignments\n",
    "    ppdir = lambda x: pprint(dir(x))\n",
    "    pt = lambda x: print(type(x))\n",
    "    pt(hit.alignments[0])\n",
    "    for al in aligns:\n",
    "        for hsp in al.hsps:\n",
    "            i += 1\n",
    "            subjects.add(hsp.sbjct)\n",
    "            queries.add(hsp.query)\n",
    "            matches.add(hsp.match)\n",
    "            nowySeq = Seq.Seq(hsp.sbjct)\n",
    "            nowySeqRecord = SeqRecord.SeqRecord(nowySeq, al.title)\n",
    "            # print(hsp.sbjct)\n",
    "            records.append(nowySeqRecord)\n",
    "    # print(hit.alignments[0].hsps[0].query)\n",
    "    # print(hit.alignments[0].hsps[0].match)\n",
    "    # print(hit.alignments[0].hsps[0].sbjct)\n",
    "    # break\n",
    "    # for el in lol:\n",
    "    #     pass\n",
    "    #     # nowySeq = SeqRecord(_seq, el.hit_id, el.name, el.title)\n",
    "    # # break \n",
    "    # records.extend(hit.alignments)\n",
    "    # print(hit.alignments)\n",
    "    # break\n",
    "#     \n",
    "print(i, len(subjects), len(queries), len(matches), len(queries.intersection(matches)))\n",
    "# from Bio import SearchIO\n",
    "# \n",
    "# # from Bio.SearchIO import BlastIO\n",
    "# # BlastIO.\n",
    "# SeqIO.write(records, 'my_output.fa', \"fasta\")\n",
    "\n",
    "# blast_qresult = SearchIO.read(NAME, 'blast-xml')\n",
    "# records = []\n",
    "# for hit in blast_qresult:\n",
    "#     records.append(hit[0].hit)\n",
    "SeqIO.write(records, \"lol.fa\", \"fasta\")\n",
    "\n",
    "from Bio.Blast.Record import Blast, Alignment"
   ],
   "metadata": {
    "collapsed": false,
    "pycharm": {
     "name": "#%% \n",
     "is_executing": false
    }
   }
  },
  {
   "cell_type": "code",
   "execution_count": 14,
   "outputs": [
    {
     "name": "stdout",
     "text": [
      "['>gi|577776628|gb|EUJ37427.1| ATP-dependent RNA helicase [Brochothrix '\n 'thermosphacta DSM 20171 = FSL F6-1036] <unknown description>\\n']\n['MHEIKYITIDEADVLLTEEHEETTRFICQSANRDRQISLFSATTSERLDNFFDKVESSQQ\\n']\n['IEVVAGEAKMPTTIDHIYIQVNPRDKVKTLYRLAQVENMRAIVFVNTIGRLNTVYEKLNH\\n']\n"
     ],
     "output_type": "stream"
    }
   ],
   "source": [
    "\n",
    "ppdir = lambda x: pprint(dir(x))\n",
    "pt = lambda x: print(type(x))\n",
    "\n",
    "from io import StringIO\n",
    "from Bio import SeqIO\n",
    "a = SeqIO.parse(open('blast_out.fa', 'r'), 'fasta')\n",
    "\n",
    "file = StringIO()\n",
    "\n",
    "# for el in a:\n",
    "#     # print(el)\n",
    "#     SeqIO.write(el, file, 'fasta')\n",
    "#     file.seek(0)\n",
    "#     print(file.read())\n",
    "#     break\n",
    "\n",
    "from pprint import pprint\n",
    "SeqIO.write(a, file, 'fasta')\n",
    "file.seek(0)\n",
    "# file.readline(1)\n",
    "pprint(file.readlines(1))\n",
    "pprint(file.readlines(1))\n",
    "pprint(file.readlines(2))"
   ],
   "metadata": {
    "collapsed": false,
    "pycharm": {
     "name": "#%%\n",
     "is_executing": false
    }
   }
  }
 ],
 "metadata": {
  "language_info": {
   "codemirror_mode": {
    "name": "ipython",
    "version": 2
   },
   "file_extension": ".py",
   "mimetype": "text/x-python",
   "name": "python",
   "nbconvert_exporter": "python",
   "pygments_lexer": "ipython2",
   "version": "2.7.6"
  },
  "kernelspec": {
   "name": "python3",
   "language": "python",
   "display_name": "Python 3"
  },
  "pycharm": {
   "stem_cell": {
    "cell_type": "raw",
    "source": [],
    "metadata": {
     "collapsed": false
    }
   }
  }
 },
 "nbformat": 4,
 "nbformat_minor": 0
}